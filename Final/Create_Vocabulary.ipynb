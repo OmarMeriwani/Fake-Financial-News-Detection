{
  "nbformat": 4,
  "nbformat_minor": 0,
  "metadata": {
    "colab": {
      "name": "Create Vocabulary.ipynb",
      "version": "0.3.2",
      "provenance": [],
      "include_colab_link": true
    },
    "kernelspec": {
      "name": "python3",
      "display_name": "Python 3"
    }
  },
  "cells": [
    {
      "cell_type": "markdown",
      "metadata": {
        "id": "view-in-github",
        "colab_type": "text"
      },
      "source": [
        "<a href=\"https://colab.research.google.com/github/OmarMeriwani/Fake-Financial-News-Detection/blob/master/Create_Vocabulary.ipynb\" target=\"_parent\"><img src=\"https://colab.research.google.com/assets/colab-badge.svg\" alt=\"Open In Colab\"/></a>"
      ]
    },
    {
      "cell_type": "markdown",
      "metadata": {
        "id": "uzgvF3Bb-0cS",
        "colab_type": "text"
      },
      "source": [
        "# Create Vocabulary\n",
        "This document contains the source code for creating a vocabulary. This step is required in multiple steps in the project."
      ]
    },
    {
      "cell_type": "code",
      "metadata": {
        "id": "ekUjGVHq-0y8",
        "colab_type": "code",
        "colab": {}
      },
      "source": [
        "import pandas as pd\n",
        "from nltk.corpus import stopwords\n",
        "from collections import Counter\n",
        "from string import punctuation\n",
        "from nltk.stem.porter import *\n",
        "from nltk.stem import WordNetLemmatizer\n",
        "from stanfordcorenlp import StanfordCoreNLP\n",
        "import os\n",
        "stemmer = PorterStemmer()\n",
        "lemmatizer = WordNetLemmatizer()\n",
        "\n",
        "java_path = \"C:/Program Files/Java/jdk1.8.0_161/bin/java.exe\"\n",
        "os.environ['JAVAHOME'] = java_path\n",
        "host='http://localhost'\n",
        "port=9000\n",
        "scnlp =StanfordCoreNLP(host, port=port,lang='en', timeout=30000)\n"
      ],
      "execution_count": 0,
      "outputs": []
    },
    {
      "cell_type": "markdown",
      "metadata": {
        "id": "wwY-LmsyAhWS",
        "colab_type": "text"
      },
      "source": [
        "Read a file and return the text content of it"
      ]
    },
    {
      "cell_type": "code",
      "metadata": {
        "id": "iYDtuEozAhdF",
        "colab_type": "code",
        "colab": {}
      },
      "source": [
        "def readfile(filename):\n",
        "    df = pd.read_csv(filename,header=0)\n",
        "    mode = 's'\n",
        "    data = ''\n",
        "    prev = ''\n",
        "    for i in range(0,len(df)):\n",
        "        sentence = df.loc[i][3]\n",
        "        data = data + '.' + sentence\n",
        "    return data\n"
      ],
      "execution_count": 0,
      "outputs": []
    },
    {
      "cell_type": "markdown",
      "metadata": {
        "id": "m7aHR5JxAhi2",
        "colab_type": "text"
      },
      "source": [
        "Tokenize, remove punctuation, remove stop words, lemmatize and return an array of tokens."
      ]
    },
    {
      "cell_type": "code",
      "metadata": {
        "id": "rKFF04IJAhoZ",
        "colab_type": "code",
        "colab": {}
      },
      "source": [
        "def clean_doc(doc):\n",
        "    doc = doc.encode('ascii', errors='ignore').decode(\"utf-8\")\n",
        "    # split into tokens by white space\n",
        "    tokens = doc.split()\n",
        "    # remove punctuation from each token\n",
        "    table = str.maketrans('', '', punctuation)\n",
        "    tokens = [w.translate(table) for w in tokens]\n",
        "    # filter out stop words\n",
        "    stop_words = set(stopwords.words('english'))\n",
        "    tokens = [w for w in tokens if not w in stop_words]\n",
        "    # filter out short tokens\n",
        "    tokens = [lemmatizer.lemmatize(word.lower()) for word in tokens if len(word) > 1 and str(word).isalpha() == True ]\n",
        "    return tokens\n"
      ],
      "execution_count": 0,
      "outputs": []
    },
    {
      "cell_type": "markdown",
      "metadata": {
        "id": "OWyBMGYKAhud",
        "colab_type": "text"
      },
      "source": [
        "Perform the previous steps, tokenize and store tokens into a text file. "
      ]
    },
    {
      "cell_type": "code",
      "metadata": {
        "id": "3VErt0yJAh0x",
        "colab_type": "code",
        "colab": {}
      },
      "source": [
        "def calc():\n",
        "    data = readfile('SSIX News headlines Gold Standard EN.csv')\n",
        "    tokens = clean_doc(data)\n",
        "    vocabulary = Counter()\n",
        "    vocabulary.update(tokens)\n",
        "    items = [word for word, count in vocabulary.items()]\n",
        "    items = '\\n'.join(items)\n",
        "    file = open('vocabulary.txt', 'w')\n",
        "    file.write(items)\n",
        "    file.close()\n"
      ],
      "execution_count": 0,
      "outputs": []
    }
  ]
}