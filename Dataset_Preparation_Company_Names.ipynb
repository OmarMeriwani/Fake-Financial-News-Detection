{
  "nbformat": 4,
  "nbformat_minor": 0,
  "metadata": {
    "colab": {
      "name": "Dataset Preparation - Company Names.ipynb",
      "version": "0.3.2",
      "provenance": [],
      "collapsed_sections": [],
      "include_colab_link": true
    },
    "kernelspec": {
      "name": "python3",
      "display_name": "Python 3"
    }
  },
  "cells": [
    {
      "cell_type": "markdown",
      "metadata": {
        "id": "view-in-github",
        "colab_type": "text"
      },
      "source": [
        "<a href=\"https://colab.research.google.com/github/OmarMeriwani/Fake-Financial-News-Detection/blob/master/Dataset_Preparation_Company_Names.ipynb\" target=\"_parent\"><img src=\"https://colab.research.google.com/assets/colab-badge.svg\" alt=\"Open In Colab\"/></a>"
      ]
    },
    {
      "cell_type": "markdown",
      "metadata": {
        "id": "a0oCrJBClhBm",
        "colab_type": "text"
      },
      "source": [
        "# Dataset Preparation - Company Names\n",
        "This document contains the method of converting IEX company profiles to unique dataset to be used in fact checkin."
      ]
    },
    {
      "cell_type": "code",
      "metadata": {
        "id": "HyEApbonlhIE",
        "colab_type": "code",
        "colab": {}
      },
      "source": [
        "import pandas as pd\n",
        "import nltk\n",
        "import csv"
      ],
      "execution_count": 0,
      "outputs": []
    },
    {
      "cell_type": "markdown",
      "metadata": {
        "id": "dhmNYQLzlhOK",
        "colab_type": "text"
      },
      "source": [
        "Many company names hold other additions to the name such as Ltd or Inc. This method removes these additions to the nama."
      ]
    },
    {
      "cell_type": "code",
      "metadata": {
        "id": "_v0mdkR3lhUQ",
        "colab_type": "code",
        "colab": {}
      },
      "source": [
        "def removetype(name):\n",
        "    \"\"\"\n",
        "    Inc., Group Inc., Ltd., Holdings Inc., Worldwide Holdings Inc., L.P., Class A, Worldwide, Holdings, Holding, Corporation, Ltd, Inc, Industries\n",
        "    \"\"\"\n",
        "    name = str(name).replace('Inc.','')\n",
        "    name = name.replace('Ltd.','')\n",
        "    name = name.replace(' Ltd ','')\n",
        "    name = name.replace('Worldwide Holdings','')\n",
        "    name = name.replace('L.P.','')\n",
        "    name = name.replace('Holding','')\n",
        "    name = name.replace('Corporation','')\n",
        "    name = name.replace('Sponsored ADR','')\n",
        "    name = name.replace(' ETF','')\n",
        "    return name"
      ],
      "execution_count": 0,
      "outputs": []
    },
    {
      "cell_type": "markdown",
      "metadata": {
        "id": "EtDzHtcwlhaP",
        "colab_type": "text"
      },
      "source": [
        "Classes are part of the naming method of IEX companies. This method remove classes from the company name."
      ]
    },
    {
      "cell_type": "code",
      "metadata": {
        "id": "VM6xXxsmlhge",
        "colab_type": "code",
        "colab": {}
      },
      "source": [
        "def getremoveclasses(name):\n",
        "    tokens = nltk.tokenize.word_tokenize(name)\n",
        "    for i in range(0, len(tokens)):\n",
        "        try:\n",
        "            if tokens[i] == 'Class':\n",
        "                if tokens[i+1] in ['A','B','C','D','E','F','G','H','I']:\n",
        "                    return ' '.join(tokens[:i]),'Class', tokens[i+1]\n",
        "            if tokens[i] == 'Series':\n",
        "                if str(tokens[i+1]) in 'ABCDEFGHIJKLMNOPQRSTUVWXYZ':\n",
        "                    return ' '.join(tokens[:i]),'Series', tokens[i+1]\n",
        "        except:\n",
        "            continue\n"
      ],
      "execution_count": 0,
      "outputs": []
    },
    {
      "cell_type": "markdown",
      "metadata": {
        "id": "_QTmRiBXlhmY",
        "colab_type": "text"
      },
      "source": [
        "Processing the data of symbols.csv which has been downloaded from IEX API, the methods above are applied to each company name, then the word is tokenized and the count of each word is collected and stored."
      ]
    },
    {
      "cell_type": "code",
      "metadata": {
        "id": "p3kIxeiQlhsU",
        "colab_type": "code",
        "colab": {}
      },
      "source": [
        "df = pd.read_csv('symbols.csv')\n",
        "namesList = []\n",
        "previous = ''\n",
        "count = 1\n",
        "for i in range(0,len(df)):\n",
        "    #,currency,date,exchange,iexId,isEnabled,name,region,symbol,type\n",
        "    name = df.loc[i]['name']\n",
        "    symbol = df.loc[i]['symbol']\n",
        "\n",
        "    name = removetype(name)\n",
        "    n = getremoveclasses(name)\n",
        "    if n is not None:\n",
        "        name = n[0]\n",
        "    tokens = nltk.tokenize.word_tokenize(name)\n",
        "    if len(tokens) >= 2:\n",
        "        name = tokens[0]+ ' '+ tokens[1]\n",
        "    else:\n",
        "        name =tokens[0]\n",
        "    if name != previous:\n",
        "        previous = name\n",
        "        count = 1\n",
        "    else:\n",
        "        count += 1\n",
        "\n",
        "    namesList.append([name, symbol, count])\n"
      ],
      "execution_count": 0,
      "outputs": []
    },
    {
      "cell_type": "markdown",
      "metadata": {
        "id": "cuDwWHSSlhyl",
        "colab_type": "text"
      },
      "source": [
        "Only the names that have appeared one time is kept, many other additions to the names could not be removed, but finally there is a unique name for each company that could be collected."
      ]
    },
    {
      "cell_type": "code",
      "metadata": {
        "id": "kCySXIB5lh4v",
        "colab_type": "code",
        "colab": {}
      },
      "source": [
        "namesWithMoreThanOne = [i for i,t,u in namesList if u > 1]\n",
        "namesList = [i for i in namesList if i[0] not in namesWithMoreThanOne ]\n",
        "for n in namesList:\n",
        "    print(n)\n",
        "df2 = pd.DataFrame(namesList)\n",
        "df2.to_csv('UniqueCompanyNames.csv')"
      ],
      "execution_count": 0,
      "outputs": []
    }
  ]
}